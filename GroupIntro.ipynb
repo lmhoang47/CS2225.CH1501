{
  "nbformat": 4,
  "nbformat_minor": 0,
  "metadata": {
    "colab": {
      "name": "GroupIntro.ipynb",
      "provenance": [],
      "collapsed_sections": [],
      "authorship_tag": "ABX9TyN54x07nbK1Sg2VCDAaJN51",
      "include_colab_link": true
    },
    "kernelspec": {
      "name": "python3",
      "display_name": "Python 3"
    }
  },
  "cells": [
    {
      "cell_type": "markdown",
      "metadata": {
        "id": "view-in-github",
        "colab_type": "text"
      },
      "source": [
        "<a href=\"https://colab.research.google.com/github/lmhoang47/CS2225.CH1501/blob/lmhoang47/GroupIntro.ipynb\" target=\"_parent\"><img src=\"https://colab.research.google.com/assets/colab-badge.svg\" alt=\"Open In Colab\"/></a>"
      ]
    },
    {
      "cell_type": "markdown",
      "metadata": {
        "id": "GuDkdhfPgRG3",
        "colab_type": "text"
      },
      "source": [
        "# Môn học: Nhận dạng thị giác và ứng dụng.\n",
        "### Project: Nhận dạng hành động người dắt xe máy\n",
        "\n",
        "Mã lớp: CS2225.CH1501\n",
        "\n",
        "123 \n",
        "\n",
        "Thành viên:\n",
        "1.   Vũ Công Tấn Tài - CH2002016 - taivct.15@grad.uit.edu.vn\n",
        "2.   Lê Minh Hoàng - CH1702008 - hoanglm.12@grad.uit.edu.vn\n",
        "3. Lê Thanh Lực - CH1802016 - luclt.13@ms.uit.edu.vn"
      ]
    }
  ]
}