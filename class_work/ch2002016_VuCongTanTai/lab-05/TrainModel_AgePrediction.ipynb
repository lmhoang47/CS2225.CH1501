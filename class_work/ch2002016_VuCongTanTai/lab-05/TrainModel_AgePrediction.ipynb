{
  "nbformat": 4,
  "nbformat_minor": 0,
  "metadata": {
    "colab": {
      "name": "TrainModel_AgePrediction.ipynb",
      "provenance": [],
      "collapsed_sections": [],
      "toc_visible": true,
      "authorship_tag": "ABX9TyPzYsLPmOWOMxsNxEZTgU6Z",
      "include_colab_link": true
    },
    "kernelspec": {
      "name": "python3",
      "display_name": "Python 3"
    },
    "accelerator": "GPU"
  },
  "cells": [
    {
      "cell_type": "markdown",
      "metadata": {
        "id": "view-in-github",
        "colab_type": "text"
      },
      "source": [
        "<a href=\"https://colab.research.google.com/github/lmhoang47/CS2225.CH1501/blob/master/class_work/ch2002016_VuCongTanTai/lab-05/TrainModel_AgePrediction.ipynb\" target=\"_parent\"><img src=\"https://colab.research.google.com/assets/colab-badge.svg\" alt=\"Open In Colab\"/></a>"
      ]
    },
    {
      "cell_type": "markdown",
      "metadata": {
        "id": "bKmI-rDf4dNe"
      },
      "source": [
        "#Preparation"
      ]
    },
    {
      "cell_type": "markdown",
      "metadata": {
        "id": "Q4GvAMdm5nPT"
      },
      "source": [
        "Install libraries with correct versions:"
      ]
    },
    {
      "cell_type": "code",
      "metadata": {
        "id": "RHhZrORD41vY"
      },
      "source": [
        "import torch\n",
        "import torchvision\n",
        "\n",
        "print(torch.__version__)\n",
        "print(torchvision.__version__)"
      ],
      "execution_count": null,
      "outputs": []
    },
    {
      "cell_type": "code",
      "metadata": {
        "id": "XSmw-vpV4YGz"
      },
      "source": [
        "!pip install torch==1.4.0 && pip install torchvision==0.5.0"
      ],
      "execution_count": null,
      "outputs": []
    },
    {
      "cell_type": "markdown",
      "metadata": {
        "id": "U5FGaDh_5kfc"
      },
      "source": [
        "Clone the repo & locate to the source code folder"
      ]
    },
    {
      "cell_type": "code",
      "metadata": {
        "id": "1X1UXHGO41Mv"
      },
      "source": [
        "!git clone https://github.com/mattans/AgeProgression.git"
      ],
      "execution_count": null,
      "outputs": []
    },
    {
      "cell_type": "markdown",
      "metadata": {
        "id": "qqFNMXLc58Nc"
      },
      "source": [
        "Traing model"
      ]
    },
    {
      "cell_type": "code",
      "metadata": {
        "id": "BF9esDd95-fr"
      },
      "source": [
        "# Help\n",
        "%cd /content/AgeProgression/\n",
        "!python main.py --help"
      ],
      "execution_count": null,
      "outputs": []
    },
    {
      "cell_type": "code",
      "metadata": {
        "id": "lt0pKdnT7-Fs",
        "outputId": "7ad2f16f-d33b-4365-9a70-bd4867970926",
        "colab": {
          "base_uri": "https://localhost:8080/",
          "height": 462
        }
      },
      "source": [
        "!python main.py --mode train --bs 256 --e 2"
      ],
      "execution_count": 10,
      "outputs": [
        {
          "output_type": "stream",
          "text": [
            "/usr/local/lib/python3.6/dist-packages/sklearn/utils/deprecation.py:144: FutureWarning: The sklearn.metrics.regression module is  deprecated in version 0.22 and will be removed in version 0.24. The corresponding classes / functions should instead be imported from sklearn.metrics. Anything that cannot be imported from sklearn.metrics is now part of the private API.\n",
            "  warnings.warn(message, FutureWarning)\n",
            "Data folder is ./data/UTKFace\n",
            "Results folder is ./trained_models/2020_10_19/13_08\n",
            "./data/UTKFace\n",
            "Traceback (most recent call last):\n",
            "  File \"main.py\", line 129, in <module>\n",
            "    models_saving=args.models_saving\n",
            "  File \"/content/AgeProgression/model.py\", line 417, in teach\n",
            "    d_z_prior = self.Dz(z_prior)\n",
            "  File \"/usr/local/lib/python3.6/dist-packages/torch/nn/modules/module.py\", line 532, in __call__\n",
            "    result = self.forward(*input, **kwargs)\n",
            "  File \"/content/AgeProgression/model.py\", line 96, in forward\n",
            "    out = layer(out)\n",
            "  File \"/usr/local/lib/python3.6/dist-packages/torch/nn/modules/module.py\", line 532, in __call__\n",
            "    result = self.forward(*input, **kwargs)\n",
            "  File \"/usr/local/lib/python3.6/dist-packages/torch/nn/modules/container.py\", line 100, in forward\n",
            "    input = module(input)\n",
            "  File \"/usr/local/lib/python3.6/dist-packages/torch/nn/modules/module.py\", line 532, in __call__\n",
            "    result = self.forward(*input, **kwargs)\n",
            "  File \"/usr/local/lib/python3.6/dist-packages/torch/nn/modules/batchnorm.py\", line 107, in forward\n",
            "    exponential_average_factor, self.eps)\n",
            "  File \"/usr/local/lib/python3.6/dist-packages/torch/nn/functional.py\", line 1666, in batch_norm\n",
            "    raise ValueError('Expected more than 1 value per channel when training, got input size {}'.format(size))\n",
            "ValueError: Expected more than 1 value per channel when training, got input size torch.Size([1, 64])\n"
          ],
          "name": "stdout"
        }
      ]
    },
    {
      "cell_type": "code",
      "metadata": {
        "id": "eAyjn2GeA3zZ",
        "outputId": "b10e7beb-f9c9-4496-fc0f-2aaccd0a3f06",
        "colab": {
          "base_uri": "https://localhost:8080/",
          "height": 202
        }
      },
      "source": [
        "!python main.py --mode train --bs 256 --e 2\n",
        "\n",
        "# Modify file: model.py#494\n",
        "# filename=file_name -> fp=file_name\n",
        "\n",
        "# Output: /content/AgeProgression/trained_models"
      ],
      "execution_count": null,
      "outputs": [
        {
          "output_type": "stream",
          "text": [
            "/usr/local/lib/python3.6/dist-packages/sklearn/utils/deprecation.py:144: FutureWarning: The sklearn.metrics.regression module is  deprecated in version 0.22 and will be removed in version 0.24. The corresponding classes / functions should instead be imported from sklearn.metrics. Anything that cannot be imported from sklearn.metrics is now part of the private API.\n",
            "  warnings.warn(message, FutureWarning)\n",
            "Data folder is ./data/UTKFace\n",
            "Results folder is ./trained_models/2020_10_19/13_19\n",
            "./data/UTKFace\n",
            "[13:26] [Epoch 1] Loss: 0.326554\n",
            "[13:26] Saved Dimg, Dz, E, G, di_optimizer, dz_optimizer, eg_optimizer to ./trained_models/2020_10_19/13_19/epoch1\n",
            "in plot\n"
          ],
          "name": "stdout"
        }
      ]
    }
  ]
}