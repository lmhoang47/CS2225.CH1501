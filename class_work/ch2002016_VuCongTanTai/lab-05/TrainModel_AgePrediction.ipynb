{
  "nbformat": 4,
  "nbformat_minor": 0,
  "metadata": {
    "colab": {
      "name": "TrainModel_AgePrediction.ipynb",
      "provenance": [],
      "collapsed_sections": [],
      "authorship_tag": "ABX9TyOt3RQQhZkQv+LteRm2UtDM",
      "include_colab_link": true
    },
    "kernelspec": {
      "name": "python3",
      "display_name": "Python 3"
    },
    "accelerator": "GPU"
  },
  "cells": [
    {
      "cell_type": "markdown",
      "metadata": {
        "id": "view-in-github",
        "colab_type": "text"
      },
      "source": [
        "<a href=\"https://colab.research.google.com/github/lmhoang47/CS2225.CH1501/blob/master/class_work/ch2002016_VuCongTanTai/lab-05/TrainModel_AgePrediction.ipynb\" target=\"_parent\"><img src=\"https://colab.research.google.com/assets/colab-badge.svg\" alt=\"Open In Colab\"/></a>"
      ]
    },
    {
      "cell_type": "markdown",
      "metadata": {
        "id": "bKmI-rDf4dNe"
      },
      "source": [
        "#Preparation"
      ]
    },
    {
      "cell_type": "markdown",
      "metadata": {
        "id": "Q4GvAMdm5nPT"
      },
      "source": [
        "Install libraries with correct versions:"
      ]
    },
    {
      "cell_type": "code",
      "metadata": {
        "id": "RHhZrORD41vY",
        "outputId": "c738c877-344b-42ea-d0a9-7dd4dc05b012",
        "colab": {
          "base_uri": "https://localhost:8080/",
          "height": 51
        }
      },
      "source": [
        "import torch\n",
        "import torchvision\n",
        "\n",
        "print(torch.__version__)\n",
        "print(torchvision.__version__)"
      ],
      "execution_count": 2,
      "outputs": [
        {
          "output_type": "stream",
          "text": [
            "1.4.0\n",
            "0.5.0\n"
          ],
          "name": "stdout"
        }
      ]
    },
    {
      "cell_type": "code",
      "metadata": {
        "id": "XSmw-vpV4YGz",
        "outputId": "846fc94f-5da0-404f-ac06-9e5effd2ad6d",
        "colab": {
          "base_uri": "https://localhost:8080/",
          "height": 480
        }
      },
      "source": [
        "!pip install torch==1.4.0 && pip install torchvision==0.5.0"
      ],
      "execution_count": 2,
      "outputs": [
        {
          "output_type": "stream",
          "text": [
            "Collecting torch==1.4.0\n",
            "\u001b[?25l  Downloading https://files.pythonhosted.org/packages/24/19/4804aea17cd136f1705a5e98a00618cb8f6ccc375ad8bfa437408e09d058/torch-1.4.0-cp36-cp36m-manylinux1_x86_64.whl (753.4MB)\n",
            "\u001b[K     |████████████████████████████████| 753.4MB 19kB/s \n",
            "\u001b[31mERROR: torchvision 0.7.0+cu101 has requirement torch==1.6.0, but you'll have torch 1.4.0 which is incompatible.\u001b[0m\n",
            "\u001b[?25hInstalling collected packages: torch\n",
            "  Found existing installation: torch 1.6.0+cu101\n",
            "    Uninstalling torch-1.6.0+cu101:\n",
            "      Successfully uninstalled torch-1.6.0+cu101\n",
            "Successfully installed torch-1.4.0\n",
            "Collecting torchvision==0.5.0\n",
            "\u001b[?25l  Downloading https://files.pythonhosted.org/packages/7e/90/6141bf41f5655c78e24f40f710fdd4f8a8aff6c8b7c6f0328240f649bdbe/torchvision-0.5.0-cp36-cp36m-manylinux1_x86_64.whl (4.0MB)\n",
            "\u001b[K     |████████████████████████████████| 4.0MB 4.5MB/s \n",
            "\u001b[?25hRequirement already satisfied: numpy in /usr/local/lib/python3.6/dist-packages (from torchvision==0.5.0) (1.18.5)\n",
            "Requirement already satisfied: six in /usr/local/lib/python3.6/dist-packages (from torchvision==0.5.0) (1.15.0)\n",
            "Requirement already satisfied: pillow>=4.1.1 in /usr/local/lib/python3.6/dist-packages (from torchvision==0.5.0) (7.0.0)\n",
            "Requirement already satisfied: torch==1.4.0 in /usr/local/lib/python3.6/dist-packages (from torchvision==0.5.0) (1.4.0)\n",
            "Installing collected packages: torchvision\n",
            "  Found existing installation: torchvision 0.7.0+cu101\n",
            "    Uninstalling torchvision-0.7.0+cu101:\n",
            "      Successfully uninstalled torchvision-0.7.0+cu101\n",
            "Successfully installed torchvision-0.5.0\n"
          ],
          "name": "stdout"
        },
        {
          "output_type": "display_data",
          "data": {
            "application/vnd.colab-display-data+json": {
              "pip_warning": {
                "packages": [
                  "torch",
                  "torchvision"
                ]
              }
            }
          },
          "metadata": {
            "tags": []
          }
        }
      ]
    },
    {
      "cell_type": "markdown",
      "metadata": {
        "id": "U5FGaDh_5kfc"
      },
      "source": [
        "Clone the repo & locate to the source code folder"
      ]
    },
    {
      "cell_type": "code",
      "metadata": {
        "id": "1X1UXHGO41Mv",
        "outputId": "637f3139-b2ce-4d62-d51c-b8a7794611b7",
        "colab": {
          "base_uri": "https://localhost:8080/",
          "height": 119
        }
      },
      "source": [
        "!git clone https://github.com/mattans/AgeProgression.git"
      ],
      "execution_count": 3,
      "outputs": [
        {
          "output_type": "stream",
          "text": [
            "Cloning into 'AgeProgression'...\n",
            "remote: Enumerating objects: 24368, done.\u001b[K\n",
            "remote: Total 24368 (delta 0), reused 0 (delta 0), pack-reused 24368\u001b[K\n",
            "Receiving objects: 100% (24368/24368), 365.94 MiB | 34.73 MiB/s, done.\n",
            "Resolving deltas: 100% (614/614), done.\n",
            "Checking out files: 100% (47449/47449), done.\n"
          ],
          "name": "stdout"
        }
      ]
    },
    {
      "cell_type": "markdown",
      "metadata": {
        "id": "uj5MS0rmdLRK"
      },
      "source": [
        "Go to source code directory"
      ]
    },
    {
      "cell_type": "code",
      "metadata": {
        "id": "BF9esDd95-fr"
      },
      "source": [
        "# Help\n",
        "%cd /content/AgeProgression/\n",
        "!python main.py --help"
      ],
      "execution_count": null,
      "outputs": []
    },
    {
      "cell_type": "markdown",
      "metadata": {
        "id": "qqFNMXLc58Nc"
      },
      "source": [
        "# Traing model"
      ]
    },
    {
      "cell_type": "code",
      "metadata": {
        "id": "eAyjn2GeA3zZ",
        "outputId": "31a103d0-2aea-49cf-f130-9d2734d1b1da",
        "colab": {
          "base_uri": "https://localhost:8080/",
          "height": 649
        }
      },
      "source": [
        "!python main.py --mode train --bs 256 --e 10\n",
        "\n",
        "# Modify file: model.py#494\n",
        "# filename=file_name -> fp=file_name\n",
        "\n",
        "# Output: /content/AgeProgression/trained_models\n",
        "\n",
        "# This command is error (Do not know WHY)\n",
        "# !python main.py --mode train"
      ],
      "execution_count": 9,
      "outputs": [
        {
          "output_type": "stream",
          "text": [
            "/usr/local/lib/python3.6/dist-packages/sklearn/utils/deprecation.py:144: FutureWarning: The sklearn.metrics.regression module is  deprecated in version 0.22 and will be removed in version 0.24. The corresponding classes / functions should instead be imported from sklearn.metrics. Anything that cannot be imported from sklearn.metrics is now part of the private API.\n",
            "  warnings.warn(message, FutureWarning)\n",
            "Data folder is ./data/UTKFace\n",
            "Results folder is ./trained_models/2020_10_20/04_37\n",
            "./data/UTKFace\n",
            "[04:43] [Epoch 1] Loss: 0.273671\n",
            "[04:43] Saved Dimg, Dz, E, G, di_optimizer, dz_optimizer, eg_optimizer to ./trained_models/2020_10_20/04_37/epoch1\n",
            "in plot\n",
            "[04:50] [Epoch 2] Loss: 0.225782\n",
            "[04:50] Saved Dimg, Dz, E, G, di_optimizer, dz_optimizer, eg_optimizer to ./trained_models/2020_10_20/04_37/epoch2\n",
            "in plot\n",
            "[04:56] [Epoch 3] Loss: 0.214935\n",
            "[04:56] Saved Dimg, Dz, E, G, di_optimizer, dz_optimizer, eg_optimizer to ./trained_models/2020_10_20/04_37/epoch3\n",
            "in plot\n",
            "[05:03] [Epoch 4] Loss: 0.207260\n",
            "[05:03] Saved Dimg, Dz, E, G, di_optimizer, dz_optimizer, eg_optimizer to ./trained_models/2020_10_20/04_37/epoch4\n",
            "in plot\n",
            "[05:09] [Epoch 5] Loss: 0.177496\n",
            "[05:09] Saved Dimg, Dz, E, G, di_optimizer, dz_optimizer, eg_optimizer to ./trained_models/2020_10_20/04_37/epoch5\n",
            "in plot\n",
            "[05:16] [Epoch 6] Loss: 0.169373\n",
            "[05:16] Saved Dimg, Dz, E, G, di_optimizer, dz_optimizer, eg_optimizer to ./trained_models/2020_10_20/04_37/epoch6\n",
            "in plot\n",
            "[05:22] [Epoch 7] Loss: 0.173940\n",
            "[05:22] Saved Dimg, Dz, E, G, di_optimizer, dz_optimizer, eg_optimizer to ./trained_models/2020_10_20/04_37/epoch7\n",
            "in plot\n",
            "[05:29] [Epoch 8] Loss: 0.163917\n",
            "[05:29] Saved Dimg, Dz, E, G, di_optimizer, dz_optimizer, eg_optimizer to ./trained_models/2020_10_20/04_37/epoch8\n",
            "in plot\n",
            "[05:35] [Epoch 9] Loss: 0.154328\n",
            "[05:35] Saved Dimg, Dz, E, G, di_optimizer, dz_optimizer, eg_optimizer to ./trained_models/2020_10_20/04_37/epoch9\n",
            "in plot\n",
            "[05:42] [Epoch 10] Loss: 0.161156\n",
            "[05:42] Saved Dimg, Dz, E, G, di_optimizer, dz_optimizer, eg_optimizer to ./trained_models/2020_10_20/04_37/epoch10\n",
            "in plot\n",
            "in plot\n"
          ],
          "name": "stdout"
        }
      ]
    }
  ]
}