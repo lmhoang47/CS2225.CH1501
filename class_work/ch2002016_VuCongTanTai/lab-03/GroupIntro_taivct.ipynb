{
  "nbformat": 4,
  "nbformat_minor": 0,
  "metadata": {
    "colab": {
      "name": "GroupIntro_taivct.ipynb",
      "provenance": [],
      "authorship_tag": "ABX9TyNYgFcO6xB6FiOOC6K5frJC",
      "include_colab_link": true
    },
    "kernelspec": {
      "name": "python3",
      "display_name": "Python 3"
    }
  },
  "cells": [
    {
      "cell_type": "markdown",
      "metadata": {
        "id": "view-in-github",
        "colab_type": "text"
      },
      "source": [
        "<a href=\"https://colab.research.google.com/github/lmhoang47/CS2225.CH1501/blob/taivct_lab03/GroupIntro_taivct.ipynb\" target=\"_parent\"><img src=\"https://colab.research.google.com/assets/colab-badge.svg\" alt=\"Open In Colab\"/></a>"
      ]
    },
    {
      "cell_type": "markdown",
      "metadata": {
        "id": "1jXOuWlXmI54",
        "colab_type": "text"
      },
      "source": [
        "# Project: Nhận dạng hành động người dắt xe máy\n",
        "\n",
        "- Môn học: Nhận dạng thị giác và ứng dụng.\n",
        "- Mã lớp: CS2225.CH1501\n",
        "- Thành viên:\n",
        "  - Vũ Công Tấn Tài - CH2002016 - taivct.15@grad.uit.edu.vn\n",
        "  - Lê Minh Hoàng - CH1702008 - hoanglm.12@grad.uit.edu.vn\n",
        "  - Lê Thanh Lực - CH1802016 - luclt.13@ms.uit.edu.vn\n",
        "- Đề tài: Nhận dạng hành động người dắt xe máy\n",
        "\n",
        "(under construction)"
      ]
    },
    {
      "cell_type": "code",
      "metadata": {
        "id": "eC1WMjWClrPM",
        "colab_type": "code",
        "colab": {}
      },
      "source": [
        "print(\"Practice 03\")"
      ],
      "execution_count": null,
      "outputs": []
    }
  ]
}